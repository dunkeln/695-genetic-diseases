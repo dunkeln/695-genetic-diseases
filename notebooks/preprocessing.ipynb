{
 "cells": [
  {
   "cell_type": "code",
   "execution_count": 1,
   "metadata": {},
   "outputs": [],
   "source": [
    "import polars as pl\n",
    "\n",
    "from scripts import extract\n",
    "from scripts.helpers import compose\n",
    "import logging\n",
    "\n",
    "logging.basicConfig(level=logging.INFO)"
   ]
  },
  {
   "cell_type": "code",
   "execution_count": 2,
   "metadata": {},
   "outputs": [
    {
     "name": "stderr",
     "output_type": "stream",
     "text": [
      "INFO:root:extracted tar to ../data\n"
     ]
    }
   ],
   "source": [
    "extract.to_tar('../silo/biospecimen.project-fm-ad.2024-03-21.tar.gz')"
   ]
  },
  {
   "cell_type": "code",
   "execution_count": 5,
   "metadata": {},
   "outputs": [
    {
     "data": {
      "text/html": [
       "<div><style>\n",
       ".dataframe > thead > tr,\n",
       ".dataframe > tbody > tr {\n",
       "  text-align: right;\n",
       "  white-space: pre-wrap;\n",
       "}\n",
       "</style>\n",
       "<small>shape: (18_004, 39)</small><table border=\"1\" class=\"dataframe\"><thead><tr><th>project_id</th><th>case_id</th><th>case_submitter_id</th><th>sample_id</th><th>sample_submitter_id</th><th>biospecimen_anatomic_site</th><th>biospecimen_laterality</th><th>catalog_reference</th><th>composition</th><th>current_weight</th><th>days_to_collection</th><th>days_to_sample_procurement</th><th>diagnosis_pathologically_confirmed</th><th>distance_normal_to_tumor</th><th>distributor_reference</th><th>freezing_method</th><th>growth_rate</th><th>initial_weight</th><th>intermediate_dimension</th><th>is_ffpe</th><th>longest_dimension</th><th>method_of_sample_procurement</th><th>oct_embedded</th><th>passage_count</th><th>pathology_report_uuid</th><th>preservation_method</th><th>sample_ordinal</th><th>sample_type</th><th>sample_type_id</th><th>shortest_dimension</th><th>specimen_type</th><th>state</th><th>time_between_clamping_and_freezing</th><th>time_between_excision_and_freezing</th><th>tissue_collection_type</th><th>tissue_type</th><th>tumor_code</th><th>tumor_code_id</th><th>tumor_descriptor</th></tr><tr><td>str</td><td>str</td><td>str</td><td>str</td><td>str</td><td>str</td><td>str</td><td>str</td><td>str</td><td>str</td><td>str</td><td>str</td><td>str</td><td>str</td><td>str</td><td>str</td><td>str</td><td>str</td><td>str</td><td>str</td><td>str</td><td>str</td><td>str</td><td>str</td><td>str</td><td>str</td><td>str</td><td>str</td><td>str</td><td>str</td><td>str</td><td>str</td><td>str</td><td>str</td><td>str</td><td>str</td><td>str</td><td>str</td><td>str</td></tr></thead><tbody><tr><td>&quot;FM-AD&quot;</td><td>&quot;7c9fb8b9-f319-…</td><td>&quot;AD2341&quot;</td><td>&quot;5e5aac26-6844-…</td><td>&quot;AD2341_sample&quot;</td><td>&quot;&#x27;--&quot;</td><td>&quot;&#x27;--&quot;</td><td>&quot;&#x27;--&quot;</td><td>&quot;&#x27;--&quot;</td><td>&quot;&#x27;--&quot;</td><td>&quot;&#x27;--&quot;</td><td>&quot;&#x27;--&quot;</td><td>&quot;&#x27;--&quot;</td><td>&quot;&#x27;--&quot;</td><td>&quot;&#x27;--&quot;</td><td>&quot;&#x27;--&quot;</td><td>&quot;&#x27;--&quot;</td><td>&quot;&#x27;--&quot;</td><td>&quot;&#x27;--&quot;</td><td>&quot;&#x27;--&quot;</td><td>&quot;&#x27;--&quot;</td><td>&quot;&#x27;--&quot;</td><td>&quot;&#x27;--&quot;</td><td>&quot;&#x27;--&quot;</td><td>&quot;&#x27;--&quot;</td><td>&quot;Unknown&quot;</td><td>&quot;&#x27;--&quot;</td><td>&quot;Primary Tumor&quot;</td><td>&quot;&#x27;--&quot;</td><td>&quot;&#x27;--&quot;</td><td>&quot;Unknown&quot;</td><td>&quot;released&quot;</td><td>&quot;&#x27;--&quot;</td><td>&quot;&#x27;--&quot;</td><td>&quot;&#x27;--&quot;</td><td>&quot;Tumor&quot;</td><td>&quot;&#x27;--&quot;</td><td>&quot;&#x27;--&quot;</td><td>&quot;Primary&quot;</td></tr><tr><td>&quot;FM-AD&quot;</td><td>&quot;fa364d7b-a0c6-…</td><td>&quot;AD2766&quot;</td><td>&quot;483f8641-8f1a-…</td><td>&quot;AD2766_sample&quot;</td><td>&quot;&#x27;--&quot;</td><td>&quot;&#x27;--&quot;</td><td>&quot;&#x27;--&quot;</td><td>&quot;&#x27;--&quot;</td><td>&quot;&#x27;--&quot;</td><td>&quot;&#x27;--&quot;</td><td>&quot;&#x27;--&quot;</td><td>&quot;&#x27;--&quot;</td><td>&quot;&#x27;--&quot;</td><td>&quot;&#x27;--&quot;</td><td>&quot;&#x27;--&quot;</td><td>&quot;&#x27;--&quot;</td><td>&quot;&#x27;--&quot;</td><td>&quot;&#x27;--&quot;</td><td>&quot;&#x27;--&quot;</td><td>&quot;&#x27;--&quot;</td><td>&quot;&#x27;--&quot;</td><td>&quot;&#x27;--&quot;</td><td>&quot;&#x27;--&quot;</td><td>&quot;&#x27;--&quot;</td><td>&quot;Unknown&quot;</td><td>&quot;&#x27;--&quot;</td><td>&quot;Metastatic&quot;</td><td>&quot;&#x27;--&quot;</td><td>&quot;&#x27;--&quot;</td><td>&quot;Unknown&quot;</td><td>&quot;released&quot;</td><td>&quot;&#x27;--&quot;</td><td>&quot;&#x27;--&quot;</td><td>&quot;&#x27;--&quot;</td><td>&quot;Tumor&quot;</td><td>&quot;&#x27;--&quot;</td><td>&quot;&#x27;--&quot;</td><td>&quot;Metastatic&quot;</td></tr><tr><td>&quot;FM-AD&quot;</td><td>&quot;99314553-1341-…</td><td>&quot;AD11274&quot;</td><td>&quot;9e0c399d-3029-…</td><td>&quot;AD11274_sample…</td><td>&quot;&#x27;--&quot;</td><td>&quot;&#x27;--&quot;</td><td>&quot;&#x27;--&quot;</td><td>&quot;&#x27;--&quot;</td><td>&quot;&#x27;--&quot;</td><td>&quot;&#x27;--&quot;</td><td>&quot;&#x27;--&quot;</td><td>&quot;&#x27;--&quot;</td><td>&quot;&#x27;--&quot;</td><td>&quot;&#x27;--&quot;</td><td>&quot;&#x27;--&quot;</td><td>&quot;&#x27;--&quot;</td><td>&quot;&#x27;--&quot;</td><td>&quot;&#x27;--&quot;</td><td>&quot;&#x27;--&quot;</td><td>&quot;&#x27;--&quot;</td><td>&quot;&#x27;--&quot;</td><td>&quot;&#x27;--&quot;</td><td>&quot;&#x27;--&quot;</td><td>&quot;&#x27;--&quot;</td><td>&quot;Unknown&quot;</td><td>&quot;&#x27;--&quot;</td><td>&quot;Metastatic&quot;</td><td>&quot;&#x27;--&quot;</td><td>&quot;&#x27;--&quot;</td><td>&quot;Unknown&quot;</td><td>&quot;released&quot;</td><td>&quot;&#x27;--&quot;</td><td>&quot;&#x27;--&quot;</td><td>&quot;&#x27;--&quot;</td><td>&quot;Tumor&quot;</td><td>&quot;&#x27;--&quot;</td><td>&quot;&#x27;--&quot;</td><td>&quot;Metastatic&quot;</td></tr><tr><td>&quot;FM-AD&quot;</td><td>&quot;2967907a-d590-…</td><td>&quot;AD10199&quot;</td><td>&quot;a5b554b0-407e-…</td><td>&quot;AD10199_sample…</td><td>&quot;&#x27;--&quot;</td><td>&quot;&#x27;--&quot;</td><td>&quot;&#x27;--&quot;</td><td>&quot;&#x27;--&quot;</td><td>&quot;&#x27;--&quot;</td><td>&quot;&#x27;--&quot;</td><td>&quot;&#x27;--&quot;</td><td>&quot;&#x27;--&quot;</td><td>&quot;&#x27;--&quot;</td><td>&quot;&#x27;--&quot;</td><td>&quot;&#x27;--&quot;</td><td>&quot;&#x27;--&quot;</td><td>&quot;&#x27;--&quot;</td><td>&quot;&#x27;--&quot;</td><td>&quot;&#x27;--&quot;</td><td>&quot;&#x27;--&quot;</td><td>&quot;&#x27;--&quot;</td><td>&quot;&#x27;--&quot;</td><td>&quot;&#x27;--&quot;</td><td>&quot;&#x27;--&quot;</td><td>&quot;Unknown&quot;</td><td>&quot;&#x27;--&quot;</td><td>&quot;Tumor&quot;</td><td>&quot;&#x27;--&quot;</td><td>&quot;&#x27;--&quot;</td><td>&quot;Unknown&quot;</td><td>&quot;released&quot;</td><td>&quot;&#x27;--&quot;</td><td>&quot;&#x27;--&quot;</td><td>&quot;&#x27;--&quot;</td><td>&quot;Tumor&quot;</td><td>&quot;&#x27;--&quot;</td><td>&quot;&#x27;--&quot;</td><td>&quot;Unknown&quot;</td></tr><tr><td>&quot;FM-AD&quot;</td><td>&quot;ed012ac6-1475-…</td><td>&quot;AD6924&quot;</td><td>&quot;dd9ff28e-e3f9-…</td><td>&quot;AD6924_sample&quot;</td><td>&quot;&#x27;--&quot;</td><td>&quot;&#x27;--&quot;</td><td>&quot;&#x27;--&quot;</td><td>&quot;&#x27;--&quot;</td><td>&quot;&#x27;--&quot;</td><td>&quot;&#x27;--&quot;</td><td>&quot;&#x27;--&quot;</td><td>&quot;&#x27;--&quot;</td><td>&quot;&#x27;--&quot;</td><td>&quot;&#x27;--&quot;</td><td>&quot;&#x27;--&quot;</td><td>&quot;&#x27;--&quot;</td><td>&quot;&#x27;--&quot;</td><td>&quot;&#x27;--&quot;</td><td>&quot;&#x27;--&quot;</td><td>&quot;&#x27;--&quot;</td><td>&quot;&#x27;--&quot;</td><td>&quot;&#x27;--&quot;</td><td>&quot;&#x27;--&quot;</td><td>&quot;&#x27;--&quot;</td><td>&quot;Unknown&quot;</td><td>&quot;&#x27;--&quot;</td><td>&quot;Primary Tumor&quot;</td><td>&quot;&#x27;--&quot;</td><td>&quot;&#x27;--&quot;</td><td>&quot;Unknown&quot;</td><td>&quot;released&quot;</td><td>&quot;&#x27;--&quot;</td><td>&quot;&#x27;--&quot;</td><td>&quot;&#x27;--&quot;</td><td>&quot;Tumor&quot;</td><td>&quot;&#x27;--&quot;</td><td>&quot;&#x27;--&quot;</td><td>&quot;Primary&quot;</td></tr><tr><td>&hellip;</td><td>&hellip;</td><td>&hellip;</td><td>&hellip;</td><td>&hellip;</td><td>&hellip;</td><td>&hellip;</td><td>&hellip;</td><td>&hellip;</td><td>&hellip;</td><td>&hellip;</td><td>&hellip;</td><td>&hellip;</td><td>&hellip;</td><td>&hellip;</td><td>&hellip;</td><td>&hellip;</td><td>&hellip;</td><td>&hellip;</td><td>&hellip;</td><td>&hellip;</td><td>&hellip;</td><td>&hellip;</td><td>&hellip;</td><td>&hellip;</td><td>&hellip;</td><td>&hellip;</td><td>&hellip;</td><td>&hellip;</td><td>&hellip;</td><td>&hellip;</td><td>&hellip;</td><td>&hellip;</td><td>&hellip;</td><td>&hellip;</td><td>&hellip;</td><td>&hellip;</td><td>&hellip;</td><td>&hellip;</td></tr><tr><td>&quot;FM-AD&quot;</td><td>&quot;76a52ff4-4e6b-…</td><td>&quot;AD15433&quot;</td><td>&quot;ef6ea526-6bfb-…</td><td>&quot;AD15433_sample…</td><td>&quot;&#x27;--&quot;</td><td>&quot;&#x27;--&quot;</td><td>&quot;&#x27;--&quot;</td><td>&quot;&#x27;--&quot;</td><td>&quot;&#x27;--&quot;</td><td>&quot;&#x27;--&quot;</td><td>&quot;&#x27;--&quot;</td><td>&quot;&#x27;--&quot;</td><td>&quot;&#x27;--&quot;</td><td>&quot;&#x27;--&quot;</td><td>&quot;&#x27;--&quot;</td><td>&quot;&#x27;--&quot;</td><td>&quot;&#x27;--&quot;</td><td>&quot;&#x27;--&quot;</td><td>&quot;&#x27;--&quot;</td><td>&quot;&#x27;--&quot;</td><td>&quot;&#x27;--&quot;</td><td>&quot;&#x27;--&quot;</td><td>&quot;&#x27;--&quot;</td><td>&quot;&#x27;--&quot;</td><td>&quot;Unknown&quot;</td><td>&quot;&#x27;--&quot;</td><td>&quot;Primary Tumor&quot;</td><td>&quot;&#x27;--&quot;</td><td>&quot;&#x27;--&quot;</td><td>&quot;Unknown&quot;</td><td>&quot;released&quot;</td><td>&quot;&#x27;--&quot;</td><td>&quot;&#x27;--&quot;</td><td>&quot;&#x27;--&quot;</td><td>&quot;Tumor&quot;</td><td>&quot;&#x27;--&quot;</td><td>&quot;&#x27;--&quot;</td><td>&quot;Primary&quot;</td></tr><tr><td>&quot;FM-AD&quot;</td><td>&quot;90d90500-b248-…</td><td>&quot;AD3649&quot;</td><td>&quot;77790f6f-50d8-…</td><td>&quot;AD3649_sample&quot;</td><td>&quot;&#x27;--&quot;</td><td>&quot;&#x27;--&quot;</td><td>&quot;&#x27;--&quot;</td><td>&quot;&#x27;--&quot;</td><td>&quot;&#x27;--&quot;</td><td>&quot;&#x27;--&quot;</td><td>&quot;&#x27;--&quot;</td><td>&quot;&#x27;--&quot;</td><td>&quot;&#x27;--&quot;</td><td>&quot;&#x27;--&quot;</td><td>&quot;&#x27;--&quot;</td><td>&quot;&#x27;--&quot;</td><td>&quot;&#x27;--&quot;</td><td>&quot;&#x27;--&quot;</td><td>&quot;&#x27;--&quot;</td><td>&quot;&#x27;--&quot;</td><td>&quot;&#x27;--&quot;</td><td>&quot;&#x27;--&quot;</td><td>&quot;&#x27;--&quot;</td><td>&quot;&#x27;--&quot;</td><td>&quot;Unknown&quot;</td><td>&quot;&#x27;--&quot;</td><td>&quot;Primary Tumor&quot;</td><td>&quot;&#x27;--&quot;</td><td>&quot;&#x27;--&quot;</td><td>&quot;Unknown&quot;</td><td>&quot;released&quot;</td><td>&quot;&#x27;--&quot;</td><td>&quot;&#x27;--&quot;</td><td>&quot;&#x27;--&quot;</td><td>&quot;Tumor&quot;</td><td>&quot;&#x27;--&quot;</td><td>&quot;&#x27;--&quot;</td><td>&quot;Primary&quot;</td></tr><tr><td>&quot;FM-AD&quot;</td><td>&quot;2df1358c-7860-…</td><td>&quot;AD2964&quot;</td><td>&quot;ab3c47b6-9c6e-…</td><td>&quot;AD2964_sample&quot;</td><td>&quot;&#x27;--&quot;</td><td>&quot;&#x27;--&quot;</td><td>&quot;&#x27;--&quot;</td><td>&quot;&#x27;--&quot;</td><td>&quot;&#x27;--&quot;</td><td>&quot;&#x27;--&quot;</td><td>&quot;&#x27;--&quot;</td><td>&quot;&#x27;--&quot;</td><td>&quot;&#x27;--&quot;</td><td>&quot;&#x27;--&quot;</td><td>&quot;&#x27;--&quot;</td><td>&quot;&#x27;--&quot;</td><td>&quot;&#x27;--&quot;</td><td>&quot;&#x27;--&quot;</td><td>&quot;&#x27;--&quot;</td><td>&quot;&#x27;--&quot;</td><td>&quot;&#x27;--&quot;</td><td>&quot;&#x27;--&quot;</td><td>&quot;&#x27;--&quot;</td><td>&quot;&#x27;--&quot;</td><td>&quot;Unknown&quot;</td><td>&quot;&#x27;--&quot;</td><td>&quot;Metastatic&quot;</td><td>&quot;&#x27;--&quot;</td><td>&quot;&#x27;--&quot;</td><td>&quot;Unknown&quot;</td><td>&quot;released&quot;</td><td>&quot;&#x27;--&quot;</td><td>&quot;&#x27;--&quot;</td><td>&quot;&#x27;--&quot;</td><td>&quot;Tumor&quot;</td><td>&quot;&#x27;--&quot;</td><td>&quot;&#x27;--&quot;</td><td>&quot;Metastatic&quot;</td></tr><tr><td>&quot;FM-AD&quot;</td><td>&quot;4e4177c8-9049-…</td><td>&quot;AD15694&quot;</td><td>&quot;dc590c27-fa82-…</td><td>&quot;AD15694_sample…</td><td>&quot;&#x27;--&quot;</td><td>&quot;&#x27;--&quot;</td><td>&quot;&#x27;--&quot;</td><td>&quot;&#x27;--&quot;</td><td>&quot;&#x27;--&quot;</td><td>&quot;&#x27;--&quot;</td><td>&quot;&#x27;--&quot;</td><td>&quot;&#x27;--&quot;</td><td>&quot;&#x27;--&quot;</td><td>&quot;&#x27;--&quot;</td><td>&quot;&#x27;--&quot;</td><td>&quot;&#x27;--&quot;</td><td>&quot;&#x27;--&quot;</td><td>&quot;&#x27;--&quot;</td><td>&quot;&#x27;--&quot;</td><td>&quot;&#x27;--&quot;</td><td>&quot;&#x27;--&quot;</td><td>&quot;&#x27;--&quot;</td><td>&quot;&#x27;--&quot;</td><td>&quot;&#x27;--&quot;</td><td>&quot;Unknown&quot;</td><td>&quot;&#x27;--&quot;</td><td>&quot;Metastatic&quot;</td><td>&quot;&#x27;--&quot;</td><td>&quot;&#x27;--&quot;</td><td>&quot;Unknown&quot;</td><td>&quot;released&quot;</td><td>&quot;&#x27;--&quot;</td><td>&quot;&#x27;--&quot;</td><td>&quot;&#x27;--&quot;</td><td>&quot;Tumor&quot;</td><td>&quot;&#x27;--&quot;</td><td>&quot;&#x27;--&quot;</td><td>&quot;Metastatic&quot;</td></tr><tr><td>&quot;FM-AD&quot;</td><td>&quot;d2660baf-7bcd-…</td><td>&quot;AD10182&quot;</td><td>&quot;2dc15c95-3f6c-…</td><td>&quot;AD10182_sample…</td><td>&quot;&#x27;--&quot;</td><td>&quot;&#x27;--&quot;</td><td>&quot;&#x27;--&quot;</td><td>&quot;&#x27;--&quot;</td><td>&quot;&#x27;--&quot;</td><td>&quot;&#x27;--&quot;</td><td>&quot;&#x27;--&quot;</td><td>&quot;&#x27;--&quot;</td><td>&quot;&#x27;--&quot;</td><td>&quot;&#x27;--&quot;</td><td>&quot;&#x27;--&quot;</td><td>&quot;&#x27;--&quot;</td><td>&quot;&#x27;--&quot;</td><td>&quot;&#x27;--&quot;</td><td>&quot;&#x27;--&quot;</td><td>&quot;&#x27;--&quot;</td><td>&quot;&#x27;--&quot;</td><td>&quot;&#x27;--&quot;</td><td>&quot;&#x27;--&quot;</td><td>&quot;&#x27;--&quot;</td><td>&quot;Unknown&quot;</td><td>&quot;&#x27;--&quot;</td><td>&quot;Metastatic&quot;</td><td>&quot;&#x27;--&quot;</td><td>&quot;&#x27;--&quot;</td><td>&quot;Unknown&quot;</td><td>&quot;released&quot;</td><td>&quot;&#x27;--&quot;</td><td>&quot;&#x27;--&quot;</td><td>&quot;&#x27;--&quot;</td><td>&quot;Tumor&quot;</td><td>&quot;&#x27;--&quot;</td><td>&quot;&#x27;--&quot;</td><td>&quot;Metastatic&quot;</td></tr></tbody></table></div>"
      ],
      "text/plain": [
       "shape: (18_004, 39)\n",
       "┌───────────┬───────────┬───────────┬───────────┬───┬───────────┬───────────┬───────────┬──────────┐\n",
       "│ project_i ┆ case_id   ┆ case_subm ┆ sample_id ┆ … ┆ tissue_ty ┆ tumor_cod ┆ tumor_cod ┆ tumor_de │\n",
       "│ d         ┆ ---       ┆ itter_id  ┆ ---       ┆   ┆ pe        ┆ e         ┆ e_id      ┆ scriptor │\n",
       "│ ---       ┆ str       ┆ ---       ┆ str       ┆   ┆ ---       ┆ ---       ┆ ---       ┆ ---      │\n",
       "│ str       ┆           ┆ str       ┆           ┆   ┆ str       ┆ str       ┆ str       ┆ str      │\n",
       "╞═══════════╪═══════════╪═══════════╪═══════════╪═══╪═══════════╪═══════════╪═══════════╪══════════╡\n",
       "│ FM-AD     ┆ 7c9fb8b9- ┆ AD2341    ┆ 5e5aac26- ┆ … ┆ Tumor     ┆ '--       ┆ '--       ┆ Primary  │\n",
       "│           ┆ f319-4780 ┆           ┆ 6844-40d6 ┆   ┆           ┆           ┆           ┆          │\n",
       "│           ┆ -8575-223 ┆           ┆ -a0a6-c9e ┆   ┆           ┆           ┆           ┆          │\n",
       "│           ┆ 80156…    ┆           ┆ e12fe…    ┆   ┆           ┆           ┆           ┆          │\n",
       "│ FM-AD     ┆ fa364d7b- ┆ AD2766    ┆ 483f8641- ┆ … ┆ Tumor     ┆ '--       ┆ '--       ┆ Metastat │\n",
       "│           ┆ a0c6-4a63 ┆           ┆ 8f1a-47a6 ┆   ┆           ┆           ┆           ┆ ic       │\n",
       "│           ┆ -abe1-bff ┆           ┆ -a3e6-a67 ┆   ┆           ┆           ┆           ┆          │\n",
       "│           ┆ 0babb…    ┆           ┆ 260ef…    ┆   ┆           ┆           ┆           ┆          │\n",
       "│ FM-AD     ┆ 99314553- ┆ AD11274   ┆ 9e0c399d- ┆ … ┆ Tumor     ┆ '--       ┆ '--       ┆ Metastat │\n",
       "│           ┆ 1341-43c1 ┆           ┆ 3029-4861 ┆   ┆           ┆           ┆           ┆ ic       │\n",
       "│           ┆ -bebd-de9 ┆           ┆ -80d1-e58 ┆   ┆           ┆           ┆           ┆          │\n",
       "│           ┆ d5b0d…    ┆           ┆ 68f3e…    ┆   ┆           ┆           ┆           ┆          │\n",
       "│ FM-AD     ┆ 2967907a- ┆ AD10199   ┆ a5b554b0- ┆ … ┆ Tumor     ┆ '--       ┆ '--       ┆ Unknown  │\n",
       "│           ┆ d590-40c3 ┆           ┆ 407e-49e3 ┆   ┆           ┆           ┆           ┆          │\n",
       "│           ┆ -9667-10e ┆           ┆ -9693-a62 ┆   ┆           ┆           ┆           ┆          │\n",
       "│           ┆ f5e90…    ┆           ┆ 3727e…    ┆   ┆           ┆           ┆           ┆          │\n",
       "│ FM-AD     ┆ ed012ac6- ┆ AD6924    ┆ dd9ff28e- ┆ … ┆ Tumor     ┆ '--       ┆ '--       ┆ Primary  │\n",
       "│           ┆ 1475-444d ┆           ┆ e3f9-4407 ┆   ┆           ┆           ┆           ┆          │\n",
       "│           ┆ -96c1-1d4 ┆           ┆ -a413-676 ┆   ┆           ┆           ┆           ┆          │\n",
       "│           ┆ 94369…    ┆           ┆ c7b89…    ┆   ┆           ┆           ┆           ┆          │\n",
       "│ …         ┆ …         ┆ …         ┆ …         ┆ … ┆ …         ┆ …         ┆ …         ┆ …        │\n",
       "│ FM-AD     ┆ 76a52ff4- ┆ AD15433   ┆ ef6ea526- ┆ … ┆ Tumor     ┆ '--       ┆ '--       ┆ Primary  │\n",
       "│           ┆ 4e6b-4ceb ┆           ┆ 6bfb-4023 ┆   ┆           ┆           ┆           ┆          │\n",
       "│           ┆ -9737-d92 ┆           ┆ -b02f-7a1 ┆   ┆           ┆           ┆           ┆          │\n",
       "│           ┆ d1e2c…    ┆           ┆ 229d2…    ┆   ┆           ┆           ┆           ┆          │\n",
       "│ FM-AD     ┆ 90d90500- ┆ AD3649    ┆ 77790f6f- ┆ … ┆ Tumor     ┆ '--       ┆ '--       ┆ Primary  │\n",
       "│           ┆ b248-4a69 ┆           ┆ 50d8-448b ┆   ┆           ┆           ┆           ┆          │\n",
       "│           ┆ -b1b3-51c ┆           ┆ -a4fa-04c ┆   ┆           ┆           ┆           ┆          │\n",
       "│           ┆ 027e5…    ┆           ┆ 38701…    ┆   ┆           ┆           ┆           ┆          │\n",
       "│ FM-AD     ┆ 2df1358c- ┆ AD2964    ┆ ab3c47b6- ┆ … ┆ Tumor     ┆ '--       ┆ '--       ┆ Metastat │\n",
       "│           ┆ 7860-4236 ┆           ┆ 9c6e-4f9a ┆   ┆           ┆           ┆           ┆ ic       │\n",
       "│           ┆ -b08c-996 ┆           ┆ -a9b6-ef9 ┆   ┆           ┆           ┆           ┆          │\n",
       "│           ┆ 65ab6…    ┆           ┆ e27ef…    ┆   ┆           ┆           ┆           ┆          │\n",
       "│ FM-AD     ┆ 4e4177c8- ┆ AD15694   ┆ dc590c27- ┆ … ┆ Tumor     ┆ '--       ┆ '--       ┆ Metastat │\n",
       "│           ┆ 9049-4112 ┆           ┆ fa82-4998 ┆   ┆           ┆           ┆           ┆ ic       │\n",
       "│           ┆ -8aa9-7c6 ┆           ┆ -b7a2-253 ┆   ┆           ┆           ┆           ┆          │\n",
       "│           ┆ 2f999…    ┆           ┆ 0084d…    ┆   ┆           ┆           ┆           ┆          │\n",
       "│ FM-AD     ┆ d2660baf- ┆ AD10182   ┆ 2dc15c95- ┆ … ┆ Tumor     ┆ '--       ┆ '--       ┆ Metastat │\n",
       "│           ┆ 7bcd-4818 ┆           ┆ 3f6c-4183 ┆   ┆           ┆           ┆           ┆ ic       │\n",
       "│           ┆ -b45c-c04 ┆           ┆ -b518-1a3 ┆   ┆           ┆           ┆           ┆          │\n",
       "│           ┆ f2f18…    ┆           ┆ a22f6…    ┆   ┆           ┆           ┆           ┆          │\n",
       "└───────────┴───────────┴───────────┴───────────┴───┴───────────┴───────────┴───────────┴──────────┘"
      ]
     },
     "execution_count": 5,
     "metadata": {},
     "output_type": "execute_result"
    }
   ],
   "source": [
    "extract.to_df('../data/sample.parquet')"
   ]
  },
  {
   "cell_type": "code",
   "execution_count": 6,
   "metadata": {},
   "outputs": [],
   "source": [
    "df = extract.to_df('../data/portion.tsv')"
   ]
  },
  {
   "cell_type": "code",
   "execution_count": 8,
   "metadata": {},
   "outputs": [
    {
     "data": {
      "text/html": [
       "<div><style>\n",
       ".dataframe > thead > tr,\n",
       ".dataframe > tbody > tr {\n",
       "  text-align: right;\n",
       "  white-space: pre-wrap;\n",
       "}\n",
       "</style>\n",
       "<small>shape: (9, 13)</small><table border=\"1\" class=\"dataframe\"><thead><tr><th>statistic</th><th>project_id</th><th>case_id</th><th>case_submitter_id</th><th>sample_id</th><th>sample_submitter_id</th><th>portion_id</th><th>portion_submitter_id</th><th>creation_datetime</th><th>is_ffpe</th><th>portion_number</th><th>state</th><th>weight</th></tr><tr><td>str</td><td>str</td><td>str</td><td>str</td><td>str</td><td>str</td><td>str</td><td>str</td><td>str</td><td>str</td><td>str</td><td>str</td><td>str</td></tr></thead><tbody><tr><td>&quot;count&quot;</td><td>&quot;35907&quot;</td><td>&quot;35907&quot;</td><td>&quot;35907&quot;</td><td>&quot;35907&quot;</td><td>&quot;35907&quot;</td><td>&quot;35907&quot;</td><td>&quot;35907&quot;</td><td>&quot;35907&quot;</td><td>&quot;35907&quot;</td><td>&quot;35907&quot;</td><td>&quot;35907&quot;</td><td>&quot;35907&quot;</td></tr><tr><td>&quot;null_count&quot;</td><td>&quot;0&quot;</td><td>&quot;0&quot;</td><td>&quot;0&quot;</td><td>&quot;0&quot;</td><td>&quot;0&quot;</td><td>&quot;0&quot;</td><td>&quot;0&quot;</td><td>&quot;0&quot;</td><td>&quot;0&quot;</td><td>&quot;0&quot;</td><td>&quot;0&quot;</td><td>&quot;0&quot;</td></tr><tr><td>&quot;mean&quot;</td><td>null</td><td>null</td><td>null</td><td>null</td><td>null</td><td>null</td><td>null</td><td>null</td><td>null</td><td>null</td><td>null</td><td>null</td></tr><tr><td>&quot;std&quot;</td><td>null</td><td>null</td><td>null</td><td>null</td><td>null</td><td>null</td><td>null</td><td>null</td><td>null</td><td>null</td><td>null</td><td>null</td></tr><tr><td>&quot;min&quot;</td><td>&quot;FM-AD&quot;</td><td>&quot;00016c8f-a0be-…</td><td>&quot;AD1&quot;</td><td>&quot;0002a8e8-b820-…</td><td>&quot;AD10000_sample…</td><td>&quot;00053f0f-0315-…</td><td>&quot;&#x27;--&quot;</td><td>&quot;&#x27;--&quot;</td><td>&quot;&#x27;--&quot;</td><td>&quot;&#x27;--&quot;</td><td>&quot;&#x27;--&quot;</td><td>&quot;&#x27;--&quot;</td></tr><tr><td>&quot;25%&quot;</td><td>null</td><td>null</td><td>null</td><td>null</td><td>null</td><td>null</td><td>null</td><td>null</td><td>null</td><td>null</td><td>null</td><td>null</td></tr><tr><td>&quot;50%&quot;</td><td>null</td><td>null</td><td>null</td><td>null</td><td>null</td><td>null</td><td>null</td><td>null</td><td>null</td><td>null</td><td>null</td><td>null</td></tr><tr><td>&quot;75%&quot;</td><td>null</td><td>null</td><td>null</td><td>null</td><td>null</td><td>null</td><td>null</td><td>null</td><td>null</td><td>null</td><td>null</td><td>null</td></tr><tr><td>&quot;max&quot;</td><td>&quot;FM-AD&quot;</td><td>&quot;ffff1aa1-40a0-…</td><td>&quot;AD9999&quot;</td><td>&quot;ffff2020-6ab9-…</td><td>&quot;AD9_sample&quot;</td><td>&quot;ffff6f41-6d65-…</td><td>&quot;&#x27;--&quot;</td><td>&quot;&#x27;--&quot;</td><td>&quot;&#x27;--&quot;</td><td>&quot;&#x27;--&quot;</td><td>&quot;&#x27;--&quot;</td><td>&quot;&#x27;--&quot;</td></tr></tbody></table></div>"
      ],
      "text/plain": [
       "shape: (9, 13)\n",
       "┌────────────┬────────────┬─────────────┬─────────────┬───┬─────────┬─────────────┬───────┬────────┐\n",
       "│ statistic  ┆ project_id ┆ case_id     ┆ case_submit ┆ … ┆ is_ffpe ┆ portion_num ┆ state ┆ weight │\n",
       "│ ---        ┆ ---        ┆ ---         ┆ ter_id      ┆   ┆ ---     ┆ ber         ┆ ---   ┆ ---    │\n",
       "│ str        ┆ str        ┆ str         ┆ ---         ┆   ┆ str     ┆ ---         ┆ str   ┆ str    │\n",
       "│            ┆            ┆             ┆ str         ┆   ┆         ┆ str         ┆       ┆        │\n",
       "╞════════════╪════════════╪═════════════╪═════════════╪═══╪═════════╪═════════════╪═══════╪════════╡\n",
       "│ count      ┆ 35907      ┆ 35907       ┆ 35907       ┆ … ┆ 35907   ┆ 35907       ┆ 35907 ┆ 35907  │\n",
       "│ null_count ┆ 0          ┆ 0           ┆ 0           ┆ … ┆ 0       ┆ 0           ┆ 0     ┆ 0      │\n",
       "│ mean       ┆ null       ┆ null        ┆ null        ┆ … ┆ null    ┆ null        ┆ null  ┆ null   │\n",
       "│ std        ┆ null       ┆ null        ┆ null        ┆ … ┆ null    ┆ null        ┆ null  ┆ null   │\n",
       "│ min        ┆ FM-AD      ┆ 00016c8f-a0 ┆ AD1         ┆ … ┆ '--     ┆ '--         ┆ '--   ┆ '--    │\n",
       "│            ┆            ┆ be-4319-9c4 ┆             ┆   ┆         ┆             ┆       ┆        │\n",
       "│            ┆            ┆ 2-4f3bcd90… ┆             ┆   ┆         ┆             ┆       ┆        │\n",
       "│ 25%        ┆ null       ┆ null        ┆ null        ┆ … ┆ null    ┆ null        ┆ null  ┆ null   │\n",
       "│ 50%        ┆ null       ┆ null        ┆ null        ┆ … ┆ null    ┆ null        ┆ null  ┆ null   │\n",
       "│ 75%        ┆ null       ┆ null        ┆ null        ┆ … ┆ null    ┆ null        ┆ null  ┆ null   │\n",
       "│ max        ┆ FM-AD      ┆ ffff1aa1-40 ┆ AD9999      ┆ … ┆ '--     ┆ '--         ┆ '--   ┆ '--    │\n",
       "│            ┆            ┆ a0-4380-8ec ┆             ┆   ┆         ┆             ┆       ┆        │\n",
       "│            ┆            ┆ d-53bff6b7… ┆             ┆   ┆         ┆             ┆       ┆        │\n",
       "└────────────┴────────────┴─────────────┴─────────────┴───┴─────────┴─────────────┴───────┴────────┘"
      ]
     },
     "execution_count": 8,
     "metadata": {},
     "output_type": "execute_result"
    }
   ],
   "source": [
    "df.describe()"
   ]
  },
  {
   "cell_type": "code",
   "execution_count": null,
   "metadata": {},
   "outputs": [],
   "source": []
  }
 ],
 "metadata": {
  "kernelspec": {
   "display_name": "Python 3",
   "language": "python",
   "name": "python3"
  },
  "language_info": {
   "codemirror_mode": {
    "name": "ipython",
    "version": 3
   },
   "file_extension": ".py",
   "mimetype": "text/x-python",
   "name": "python",
   "nbconvert_exporter": "python",
   "pygments_lexer": "ipython3",
   "version": "3.10.13"
  }
 },
 "nbformat": 4,
 "nbformat_minor": 2
}
